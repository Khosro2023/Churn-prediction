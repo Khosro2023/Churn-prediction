{
 "cells": [
  {
   "cell_type": "markdown",
   "id": "6ade9735",
   "metadata": {},
   "source": [
    "Notebook: notebooks/2-LogisticRegression.ipynb"
   ]
  },
  {
   "cell_type": "code",
   "execution_count": null,
   "id": "2fabb455",
   "metadata": {},
   "outputs": [],
   "source": [
    "Accuracy: 0.9016123724909509\n",
    "\n",
    "Classification Report:\n",
    "               precision    recall  f1-score   support\n",
    "\n",
    "           0       0.77      0.56      0.65       496\n",
    "           1       0.92      0.97      0.94      2543\n",
    "\n",
    "    accuracy                           0.90      3039\n",
    "   macro avg       0.85      0.76      0.80      3039\n",
    "weighted avg       0.90      0.90      0.90      3039\n",
    "\n"
   ]
  },
  {
   "cell_type": "markdown",
   "id": "436ae0f2",
   "metadata": {},
   "source": [
    "Notebook: notebooks/3-RandomForest.ipynb"
   ]
  },
  {
   "cell_type": "code",
   "execution_count": null,
   "id": "72989de5",
   "metadata": {},
   "outputs": [],
   "source": [
    "Accuracy: 0.9600197433366239\n",
    "\n",
    "Classification Report:\n",
    "               precision    recall  f1-score   support\n",
    "\n",
    "           0       0.92      0.82      0.87       327\n",
    "           1       0.97      0.99      0.98      1699\n",
    "\n",
    "    accuracy                           0.96      2026\n",
    "   macro avg       0.94      0.90      0.92      2026\n",
    "weighted avg       0.96      0.96      0.96      2026\n",
    "\n"
   ]
  },
  {
   "cell_type": "markdown",
   "id": "f17b9911",
   "metadata": {},
   "source": [
    "Notebook: notebooks/4-SVM.ipynb"
   ]
  },
  {
   "cell_type": "code",
   "execution_count": null,
   "id": "e86649d4",
   "metadata": {},
   "outputs": [],
   "source": [
    "Accuracy: 0.8840078973346496\n",
    "\n",
    "Classification Report:\n",
    "               precision    recall  f1-score   support\n",
    "\n",
    "           0       0.72      0.46      0.56       327\n",
    "           1       0.90      0.97      0.93      1699\n",
    "\n",
    "    accuracy                           0.88      2026\n",
    "   macro avg       0.81      0.71      0.75      2026\n",
    "weighted avg       0.87      0.88      0.87      2026\n",
    "\n"
   ]
  },
  {
   "cell_type": "markdown",
   "id": "0903d594",
   "metadata": {},
   "source": [
    "Notebook: notebooks/5-XGboost.ipynb"
   ]
  },
  {
   "cell_type": "code",
   "execution_count": null,
   "id": "aa913253",
   "metadata": {},
   "outputs": [],
   "source": [
    "Accuracy: 0.9299111549851925\n",
    "\n",
    "Classification Report:\n",
    "               precision    recall  f1-score   support\n",
    "\n",
    "           0       0.83      0.71      0.77       327\n",
    "           1       0.95      0.97      0.96      1699\n",
    "\n",
    "    accuracy                           0.93      2026\n",
    "   macro avg       0.89      0.84      0.86      2026\n",
    "weighted avg       0.93      0.93      0.93      2026\n",
    "\n"
   ]
  }
 ],
 "metadata": {
  "kernelspec": {
   "display_name": "en_churn_prediction",
   "language": "python",
   "name": "python3"
  },
  "language_info": {
   "codemirror_mode": {
    "name": "ipython",
    "version": 3
   },
   "file_extension": ".py",
   "mimetype": "text/x-python",
   "name": "python",
   "nbconvert_exporter": "python",
   "pygments_lexer": "ipython3",
   "version": "3.11.5"
  }
 },
 "nbformat": 4,
 "nbformat_minor": 5
}
