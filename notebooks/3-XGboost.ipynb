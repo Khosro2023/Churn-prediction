{
 "cells": [
  {
   "cell_type": "code",
   "execution_count": 1,
   "metadata": {},
   "outputs": [],
   "source": [
    "# Import necessary libraries\n",
    "import numpy as np\n",
    "import pandas as pd\n",
    "import xgboost as xgb\n",
    "from sklearn.datasets import load_iris\n",
    "from sklearn.model_selection import train_test_split\n",
    "from sklearn.metrics import accuracy_score, classification_report"
   ]
  },
  {
   "cell_type": "code",
   "execution_count": 2,
   "metadata": {},
   "outputs": [],
   "source": [
    "# read csv file\n",
    "df = pd.read_csv('../Data/clean_data.csv')"
   ]
  },
  {
   "cell_type": "code",
   "execution_count": 7,
   "metadata": {},
   "outputs": [],
   "source": [
    "X=df[[\n",
    "'Customer_Age',\n",
    " 'Gender',\n",
    " 'Dependent_count',\n",
    " 'Education_Level',\n",
    " 'Marital_Status',\n",
    " 'Income_Category',\n",
    " 'Card_Category',\n",
    " 'Months_on_book',\n",
    " 'Total_Relationship_Count',\n",
    " 'Months_Inactive_12_mon',\n",
    " 'Contacts_Count_12_mon',\n",
    " 'Credit_Limit',\n",
    " 'Total_Revolving_Bal',\n",
    " 'Avg_Open_To_Buy',\n",
    " 'Total_Amt_Chng_Q4_Q1',\n",
    " 'Total_Trans_Amt',\n",
    " 'Total_Trans_Ct',\n",
    " 'Total_Ct_Chng_Q4_Q1',\n",
    " 'Avg_Utilization_Ratio']]\n",
    "y=df['Attrition_Flag'] "
   ]
  },
  {
   "cell_type": "code",
   "execution_count": 10,
   "metadata": {},
   "outputs": [],
   "source": [
    "# Split the data into training and testing sets\n",
    "X_train, X_test, y_train, y_test = train_test_split(X, y, test_size=0.2, random_state=42)"
   ]
  },
  {
   "cell_type": "code",
   "execution_count": 16,
   "metadata": {},
   "outputs": [],
   "source": [
    "# Convert data to pandas DataFrames (optional but recommended)\n",
    "X_train_df = pd.DataFrame(X_train)\n",
    "X_test_df = pd.DataFrame(X_test)"
   ]
  },
  {
   "cell_type": "code",
   "execution_count": 17,
   "metadata": {},
   "outputs": [
    {
     "name": "stderr",
     "output_type": "stream",
     "text": [
      "/Users/khosromehdikhanlou/Documents/GitHub/Churn prediction/en_churn_prediction/lib/python3.11/site-packages/xgboost/data.py:335: FutureWarning: is_sparse is deprecated and will be removed in a future version. Check `isinstance(dtype, pd.SparseDtype)` instead.\n",
      "  if is_sparse(dtype):\n",
      "/Users/khosromehdikhanlou/Documents/GitHub/Churn prediction/en_churn_prediction/lib/python3.11/site-packages/xgboost/data.py:338: FutureWarning: is_categorical_dtype is deprecated and will be removed in a future version. Use isinstance(dtype, CategoricalDtype) instead\n",
      "  is_categorical_dtype(dtype) or is_pa_ext_categorical_dtype(dtype)\n",
      "/Users/khosromehdikhanlou/Documents/GitHub/Churn prediction/en_churn_prediction/lib/python3.11/site-packages/xgboost/data.py:384: FutureWarning: is_categorical_dtype is deprecated and will be removed in a future version. Use isinstance(dtype, CategoricalDtype) instead\n",
      "  if is_categorical_dtype(dtype):\n",
      "/Users/khosromehdikhanlou/Documents/GitHub/Churn prediction/en_churn_prediction/lib/python3.11/site-packages/xgboost/data.py:359: FutureWarning: is_categorical_dtype is deprecated and will be removed in a future version. Use isinstance(dtype, CategoricalDtype) instead\n",
      "  return is_int or is_bool or is_float or is_categorical_dtype(dtype)\n",
      "/Users/khosromehdikhanlou/Documents/GitHub/Churn prediction/en_churn_prediction/lib/python3.11/site-packages/xgboost/data.py:520: FutureWarning: is_sparse is deprecated and will be removed in a future version. Check `isinstance(dtype, pd.SparseDtype)` instead.\n",
      "  if is_sparse(data):\n",
      "/Users/khosromehdikhanlou/Documents/GitHub/Churn prediction/en_churn_prediction/lib/python3.11/site-packages/xgboost/data.py:335: FutureWarning: is_sparse is deprecated and will be removed in a future version. Check `isinstance(dtype, pd.SparseDtype)` instead.\n",
      "  if is_sparse(dtype):\n",
      "/Users/khosromehdikhanlou/Documents/GitHub/Churn prediction/en_churn_prediction/lib/python3.11/site-packages/xgboost/data.py:338: FutureWarning: is_categorical_dtype is deprecated and will be removed in a future version. Use isinstance(dtype, CategoricalDtype) instead\n",
      "  is_categorical_dtype(dtype) or is_pa_ext_categorical_dtype(dtype)\n",
      "/Users/khosromehdikhanlou/Documents/GitHub/Churn prediction/en_churn_prediction/lib/python3.11/site-packages/xgboost/data.py:384: FutureWarning: is_categorical_dtype is deprecated and will be removed in a future version. Use isinstance(dtype, CategoricalDtype) instead\n",
      "  if is_categorical_dtype(dtype):\n",
      "/Users/khosromehdikhanlou/Documents/GitHub/Churn prediction/en_churn_prediction/lib/python3.11/site-packages/xgboost/data.py:359: FutureWarning: is_categorical_dtype is deprecated and will be removed in a future version. Use isinstance(dtype, CategoricalDtype) instead\n",
      "  return is_int or is_bool or is_float or is_categorical_dtype(dtype)\n",
      "/Users/khosromehdikhanlou/Documents/GitHub/Churn prediction/en_churn_prediction/lib/python3.11/site-packages/xgboost/data.py:520: FutureWarning: is_sparse is deprecated and will be removed in a future version. Check `isinstance(dtype, pd.SparseDtype)` instead.\n",
      "  if is_sparse(data):\n"
     ]
    }
   ],
   "source": [
    "\n",
    "# Create a DMatrix for XGBoost (optimized data structure for XGBoost)\n",
    "dtrain = xgb.DMatrix(X_train, label=y_train)\n",
    "dtest = xgb.DMatrix(X_test, label=y_test)\n",
    "\n"
   ]
  },
  {
   "cell_type": "code",
   "execution_count": 18,
   "metadata": {},
   "outputs": [],
   "source": [
    "# Define hyperparameters for XGBoost\n",
    "params = {\n",
    "    'objective': 'multi:softmax',  # Multiclass classification\n",
    "    'num_class': 3,                # Number of classes in the dataset\n",
    "    'max_depth': 3,                # Maximum depth of each tree\n",
    "    'learning_rate': 0.1,          # Learning rate\n",
    "    'n_estimators': 100            # Number of boosting rounds (trees)\n",
    "}\n"
   ]
  },
  {
   "cell_type": "code",
   "execution_count": 20,
   "metadata": {},
   "outputs": [
    {
     "name": "stdout",
     "output_type": "stream",
     "text": [
      "Accuracy: 0.9299111549851925\n",
      "\n",
      "Classification Report:\n",
      "               precision    recall  f1-score   support\n",
      "\n",
      "           0       0.83      0.71      0.77       327\n",
      "           1       0.95      0.97      0.96      1699\n",
      "\n",
      "    accuracy                           0.93      2026\n",
      "   macro avg       0.89      0.84      0.86      2026\n",
      "weighted avg       0.93      0.93      0.93      2026\n",
      "\n"
     ]
    },
    {
     "name": "stderr",
     "output_type": "stream",
     "text": [
      "/Users/khosromehdikhanlou/Documents/GitHub/Churn prediction/en_churn_prediction/lib/python3.11/site-packages/xgboost/core.py:160: UserWarning: [10:08:55] WARNING: /Users/runner/work/xgboost/xgboost/src/learner.cc:742: \n",
      "Parameters: { \"n_estimators\" } are not used.\n",
      "\n",
      "  warnings.warn(smsg, UserWarning)\n"
     ]
    }
   ],
   "source": [
    "\n",
    "\n",
    "\n",
    "# Train the XGBoost model\n",
    "model = xgb.train(params, dtrain)\n",
    "\n",
    "# Make predictions on the test data\n",
    "y_pred = model.predict(dtest)\n",
    "\n",
    "# Evaluate the model\n",
    "accuracy = accuracy_score(y_test, y_pred)\n",
    "report = classification_report(y_test, y_pred)\n",
    "\n",
    "print(\"Accuracy:\", accuracy)\n",
    "print(\"\\nClassification Report:\\n\", report)\n",
    "\n",
    "\n",
    "\n",
    "\n"
   ]
  }
 ],
 "metadata": {
  "kernelspec": {
   "display_name": "en_churn_prediction",
   "language": "python",
   "name": "python3"
  },
  "language_info": {
   "codemirror_mode": {
    "name": "ipython",
    "version": 3
   },
   "file_extension": ".py",
   "mimetype": "text/x-python",
   "name": "python",
   "nbconvert_exporter": "python",
   "pygments_lexer": "ipython3",
   "version": "3.11.5"
  },
  "orig_nbformat": 4
 },
 "nbformat": 4,
 "nbformat_minor": 2
}
