{
 "cells": [
  {
   "cell_type": "code",
   "execution_count": 10,
   "metadata": {},
   "outputs": [],
   "source": [
    "#import pandas\n",
    "import pandas as pd\n",
    " \n",
    "# read csv file\n",
    "df = pd.read_csv('../Data/BankChurners.csv')\n",
    " \n"
   ]
  },
  {
   "cell_type": "code",
   "execution_count": 11,
   "metadata": {},
   "outputs": [
    {
     "data": {
      "text/plain": [
       "(10127, 23)"
      ]
     },
     "execution_count": 11,
     "metadata": {},
     "output_type": "execute_result"
    }
   ],
   "source": [
    "df.shape"
   ]
  },
  {
   "cell_type": "code",
   "execution_count": 12,
   "metadata": {},
   "outputs": [
    {
     "name": "stdout",
     "output_type": "stream",
     "text": [
      "Columns with 'Unknown' values:\n",
      "Column 'Education_Level' has 1519 'Unknown' values.\n",
      "Column 'Marital_Status' has 749 'Unknown' values.\n",
      "Column 'Income_Category' has 1112 'Unknown' values.\n"
     ]
    }
   ],
   "source": [
    "\n",
    "# Assuming your DataFrame is named df\n",
    "unknown_count = {}  # Dictionary to store column-wise counts\n",
    "\n",
    "for column in df.columns:\n",
    "    unknown_count[column] = df[column].apply(lambda x: 1 if x == \"Unknown\" else 0).sum()\n",
    "\n",
    "# Filter columns with \"Unknown\" values\n",
    "unknown_columns = {key: value for key, value in unknown_count.items() if value > 0}\n",
    "\n",
    "print(\"Columns with 'Unknown' values:\")\n",
    "for column, count in unknown_columns.items():\n",
    "    print(f\"Column '{column}' has {count} 'Unknown' values.\")\n"
   ]
  },
  {
   "cell_type": "code",
   "execution_count": 27,
   "metadata": {},
   "outputs": [
    {
     "name": "stdout",
     "output_type": "stream",
     "text": [
      "Number of rows with more than 2 'unknown' values: 320\n"
     ]
    }
   ],
   "source": [
    "# Count the number of 'unknown' values per row and check if it's greater than 2\n",
    "row_counts = df.apply(lambda row: (row == 'Unknown').sum(), axis=1)\n",
    "count_of_rows_with_more_than_2_unknown = (row_counts == 2).sum()\n",
    "\n",
    "print(\"Number of rows with more than 2 'unknown' values:\", count_of_rows_with_more_than_2_unknown)"
   ]
  },
  {
   "cell_type": "code",
   "execution_count": 25,
   "metadata": {},
   "outputs": [
    {
     "data": {
      "text/plain": [
       "array(['M', 'F'], dtype=object)"
      ]
     },
     "execution_count": 25,
     "metadata": {},
     "output_type": "execute_result"
    }
   ],
   "source": [
    "df[\"Gender\"].unique()"
   ]
  },
  {
   "cell_type": "code",
   "execution_count": 26,
   "metadata": {},
   "outputs": [],
   "source": [
    "# replacing values for Gender\n",
    "df['Gender'].replace(['F', 'M'],\n",
    "                        [0, 1], inplace=True)"
   ]
  },
  {
   "cell_type": "code",
   "execution_count": 27,
   "metadata": {},
   "outputs": [
    {
     "data": {
      "text/plain": [
       "<bound method NDFrame.describe of 0        1\n",
       "1        0\n",
       "2        1\n",
       "3        0\n",
       "4        1\n",
       "        ..\n",
       "10122    1\n",
       "10123    1\n",
       "10124    0\n",
       "10125    1\n",
       "10126    0\n",
       "Name: Gender, Length: 10127, dtype: int64>"
      ]
     },
     "execution_count": 27,
     "metadata": {},
     "output_type": "execute_result"
    }
   ],
   "source": [
    "df[\"Gender\"].describe"
   ]
  },
  {
   "cell_type": "code",
   "execution_count": 28,
   "metadata": {},
   "outputs": [
    {
     "data": {
      "text/plain": [
       "array(['High School', 'Graduate', 'Uneducated', 'Unknown', 'College',\n",
       "       'Post-Graduate', 'Doctorate'], dtype=object)"
      ]
     },
     "execution_count": 28,
     "metadata": {},
     "output_type": "execute_result"
    }
   ],
   "source": [
    "df[\"Education_Level\"].unique()"
   ]
  },
  {
   "cell_type": "code",
   "execution_count": 29,
   "metadata": {},
   "outputs": [],
   "source": [
    "# replacing values for Education_Level\n",
    "df['Education_Level'].replace(['High School', 'Graduate', 'Uneducated', 'Unknown', 'College',\n",
    "       'Post-Graduate', 'Doctorate'],\n",
    "                        [2, 4, 1, 0,3,5,6], inplace=True)"
   ]
  },
  {
   "cell_type": "code",
   "execution_count": 30,
   "metadata": {},
   "outputs": [
    {
     "data": {
      "text/plain": [
       "0        2\n",
       "1        4\n",
       "2        4\n",
       "3        2\n",
       "4        1\n",
       "        ..\n",
       "10122    4\n",
       "10123    0\n",
       "10124    2\n",
       "10125    4\n",
       "10126    4\n",
       "Name: Education_Level, Length: 10127, dtype: int64"
      ]
     },
     "execution_count": 30,
     "metadata": {},
     "output_type": "execute_result"
    }
   ],
   "source": [
    "df['Education_Level']"
   ]
  },
  {
   "cell_type": "code",
   "execution_count": 31,
   "metadata": {},
   "outputs": [
    {
     "data": {
      "text/plain": [
       "array(['Existing Customer', 'Attrited Customer'], dtype=object)"
      ]
     },
     "execution_count": 31,
     "metadata": {},
     "output_type": "execute_result"
    }
   ],
   "source": [
    "df[\"Attrition_Flag\"].unique()"
   ]
  },
  {
   "cell_type": "code",
   "execution_count": 32,
   "metadata": {},
   "outputs": [],
   "source": [
    "# replacing values for Attrition_Flag\n",
    "df['Attrition_Flag'].replace(['Existing Customer', 'Attrited Customer'],\n",
    "                        [1, 0], inplace=True)"
   ]
  },
  {
   "cell_type": "code",
   "execution_count": 33,
   "metadata": {},
   "outputs": [
    {
     "data": {
      "text/plain": [
       "array(['Married', 'Single', 'Unknown', 'Divorced'], dtype=object)"
      ]
     },
     "execution_count": 33,
     "metadata": {},
     "output_type": "execute_result"
    }
   ],
   "source": [
    "df[\"Marital_Status\"].unique()"
   ]
  },
  {
   "cell_type": "code",
   "execution_count": 34,
   "metadata": {},
   "outputs": [],
   "source": [
    "# replacing values for Marital_Status\n",
    "df[\"Marital_Status\"].replace(['Married', 'Single', 'Unknown', 'Divorced'],\n",
    "                        [2,1,0,3], inplace=True)"
   ]
  },
  {
   "cell_type": "code",
   "execution_count": 35,
   "metadata": {},
   "outputs": [
    {
     "data": {
      "text/plain": [
       "array(['$60K - $80K', 'Less than $40K', '$80K - $120K', '$40K - $60K',\n",
       "       '$120K +', 'Unknown'], dtype=object)"
      ]
     },
     "execution_count": 35,
     "metadata": {},
     "output_type": "execute_result"
    }
   ],
   "source": [
    "df[\"Income_Category\"].unique()"
   ]
  },
  {
   "cell_type": "code",
   "execution_count": 37,
   "metadata": {},
   "outputs": [],
   "source": [
    "df[\"Income_Category\"].replace(['$60K - $80K', 'Less than $40K', '$80K - $120K', '$40K - $60K',\n",
    "       '$120K +', 'Unknown'],\n",
    "                        [3, 1, 4, 2,5,0], inplace=True)"
   ]
  },
  {
   "cell_type": "code",
   "execution_count": 38,
   "metadata": {},
   "outputs": [
    {
     "data": {
      "text/plain": [
       "array(['Blue', 'Gold', 'Silver', 'Platinum'], dtype=object)"
      ]
     },
     "execution_count": 38,
     "metadata": {},
     "output_type": "execute_result"
    }
   ],
   "source": [
    "df[\"Card_Category\"].unique()"
   ]
  },
  {
   "cell_type": "code",
   "execution_count": 39,
   "metadata": {},
   "outputs": [],
   "source": [
    "# replacing values for Card_Category\n",
    "df['Card_Category'].replace(['Blue', 'Gold', 'Silver', 'Platinum'],\n",
    "                        [1, 3,2,4], inplace=True)"
   ]
  },
  {
   "cell_type": "code",
   "execution_count": 40,
   "metadata": {},
   "outputs": [],
   "source": [
    "df.to_csv('../Data/clean_data.csv', index=False)  # Save as CSV"
   ]
  }
 ],
 "metadata": {
  "kernelspec": {
   "display_name": "en_churn_prediction",
   "language": "python",
   "name": "python3"
  },
  "language_info": {
   "codemirror_mode": {
    "name": "ipython",
    "version": 3
   },
   "file_extension": ".py",
   "mimetype": "text/x-python",
   "name": "python",
   "nbconvert_exporter": "python",
   "pygments_lexer": "ipython3",
   "version": "3.11.5"
  },
  "orig_nbformat": 4
 },
 "nbformat": 4,
 "nbformat_minor": 2
}
