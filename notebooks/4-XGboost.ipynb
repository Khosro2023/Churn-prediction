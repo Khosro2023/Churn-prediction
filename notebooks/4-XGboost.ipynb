

# Load the Iris dataset
data = load_iris()
X = data.data
y = data.target

# Split the data into training and testing sets
X_train, X_test, y_train, y_test = train_test_split(X, y, test_size=0.2, random_state=42)

# Create a DMatrix for XGBoost (optimized data structure for XGBoost)
dtrain = xgb.DMatrix(X_train, label=y_train)
dtest = xgb.DMatrix(X_test, label=y_test)

# Define hyperparameters for XGBoost
params = {
    'objective': 'multi:softmax',  # Multiclass classification
    'num_class': 3,                # Number of classes in the dataset
    'max_depth': 3,                # Maximum depth of each tree
    'learning_rate': 0.1,          # Learning rate
    'n_estimators': 100            # Number of boosting rounds (trees)
}

# Train the XGBoost model
model = xgb.train(params, dtrain)

# Make predictions on the test data
y_pred = model.predict(dtest)

# Evaluate the model
accuracy = accuracy_score(y_test, y_pred)
report = classification_report(y_test, y_pred)

print("Accuracy:", accuracy)
print("\nClassification Report:\n", report)
# Import necessary libraries
import numpy as np
import pandas as pd
import xgboost as xgb
from sklearn.datasets import load_iris
from sklearn.model_selection import train_test_split
from sklearn.metrics import accuracy_score, classification_report